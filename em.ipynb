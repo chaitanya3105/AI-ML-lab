{
 "cells": [
  {
   "cell_type": "code",
   "execution_count": 1,
   "id": "d63d454a",
   "metadata": {},
   "outputs": [
    {
     "name": "stdout",
     "output_type": "stream",
     "text": [
      "Means:\n",
      "[[-2.95308906  2.96314961]\n",
      " [-0.03691213 -2.97421608]\n",
      " [ 2.90101528  2.97575985]]\n",
      "\n",
      "Covariances:\n",
      "[[[ 0.84045761  0.01124956]\n",
      "  [ 0.01124956  0.92214493]]\n",
      "\n",
      " [[ 0.94018923 -0.03985231]\n",
      "  [-0.03985231  0.98174498]]\n",
      "\n",
      " [[ 1.05882055  0.00353871]\n",
      "  [ 0.00353871  0.98939966]]]\n",
      "\n",
      "Mixing Coefficients:\n",
      "[0.29836119 0.40032107 0.30131774]\n"
     ]
    }
   ],
   "source": [
    "import numpy as np\n",
    "from sklearn.mixture import GaussianMixture\n",
    "\n",
    "# Example usage:\n",
    "if __name__ == \"__main__\":\n",
    "    # Generate synthetic data\n",
    "    np.random.seed(0)\n",
    "    num_samples = 1000\n",
    "    num_features = 2\n",
    "    num_components = 3\n",
    "    data = np.random.randn(num_samples, num_features)\n",
    "    data[:300] += np.array([3, 3])\n",
    "    data[300:600] += np.array([-3, 3])\n",
    "    data[600:] += np.array([0, -3])\n",
    "    \n",
    "    # Apply EM algorithm\n",
    "    gmm = GaussianMixture(n_components=num_components, max_iter=100)\n",
    "    gmm.fit(data)\n",
    "\n",
    "    print(\"Means:\")\n",
    "    print(gmm.means_)\n",
    "    print(\"\\nCovariances:\")\n",
    "    print(gmm.covariances_)\n",
    "    print(\"\\nMixing Coefficients:\")\n",
    "    print(gmm.weights_)\n"
   ]
  },
  {
   "cell_type": "code",
   "execution_count": null,
   "id": "8fa26577",
   "metadata": {},
   "outputs": [],
   "source": []
  }
 ],
 "metadata": {
  "kernelspec": {
   "display_name": "Python 3 (ipykernel)",
   "language": "python",
   "name": "python3"
  },
  "language_info": {
   "codemirror_mode": {
    "name": "ipython",
    "version": 3
   },
   "file_extension": ".py",
   "mimetype": "text/x-python",
   "name": "python",
   "nbconvert_exporter": "python",
   "pygments_lexer": "ipython3",
   "version": "3.11.5"
  }
 },
 "nbformat": 4,
 "nbformat_minor": 5
}
