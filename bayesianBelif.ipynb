{
 "cells": [
  {
   "cell_type": "code",
   "execution_count": 2,
   "id": "a6f11185",
   "metadata": {},
   "outputs": [
    {
     "name": "stdout",
     "output_type": "stream",
     "text": [
      "Probability of being a smoker given cancer and pollution: 0.009900990099009901\n",
      "Probability of having cancer given a positive x-ray: 0.5625000000000001\n",
      "Probability of having dyspnoea given cancer: 0.8666666666666667\n"
     ]
    }
   ],
   "source": [
    "def bayesian_belief_network(smoker, pollution, cancer, xray):\n",
    "    # Define prior probabilities\n",
    "    p_smoker = 0.2\n",
    "    p_pollution = 0.3\n",
    "    \n",
    "    # Define conditional probabilities\n",
    "    p_cancer_given_smoker_pollution = {(0, 0): 0.05, (0, 1): 0.02, (1, 0): 0.03, (1, 1): 0.001}\n",
    "    p_xray_given_cancer = {0: 0.7, 1: 0.9}\n",
    "    p_dyspnoea_given_cancer = {0: 0.1, 1: 0.65}\n",
    "    \n",
    "    # Calculate joint probability\n",
    "    p_cancer = sum(p_cancer_given_smoker_pollution[(s, p)] * p_smoker * p_pollution for s in (0, 1) for p in (0, 1))\n",
    "    \n",
    "    # Calculate conditional probabilities using Bayes' theorem\n",
    "    p_smoker_given_cancer_pollution = (p_cancer_given_smoker_pollution[(smoker, pollution)] * p_smoker * p_pollution) / p_cancer\n",
    "    p_cancer_given_xray = (p_xray_given_cancer[xray] * p_cancer) / sum(p_xray_given_cancer[val] * p_cancer for val in (0, 1))\n",
    "    p_dyspnoea_given_cancer = (p_dyspnoea_given_cancer[cancer] * p_cancer) / sum(p_dyspnoea_given_cancer[val] * p_cancer for val in (0, 1))\n",
    "    \n",
    "    return p_smoker_given_cancer_pollution, p_cancer_given_xray, p_dyspnoea_given_cancer\n",
    "\n",
    "# Example usage:\n",
    "if __name__ == \"__main__\":\n",
    "    smoker_value = 1  # 1 represents smoker, 0 represents non-smoker\n",
    "    pollution_value = 1  # 1 represents high pollution, 0 represents low pollution\n",
    "    cancer_value = 1  # 1 represents cancer, 0 represents no cancer\n",
    "    xray_value = 1  # 1 represents positive x-ray, 0 represents negative x-ray\n",
    "    smoker_probability, cancer_xray_probability, dyspnoea_probability = bayesian_belief_network(smoker_value, pollution_value, cancer_value, xray_value)\n",
    "    print(f\"Probability of being a smoker given cancer and pollution: {smoker_probability}\")\n",
    "    print(f\"Probability of having cancer given a positive x-ray: {cancer_xray_probability}\")\n",
    "    print(f\"Probability of having dyspnoea given cancer: {dyspnoea_probability}\")\n"
   ]
  },
  {
   "cell_type": "code",
   "execution_count": null,
   "id": "8ae4aa64",
   "metadata": {},
   "outputs": [],
   "source": []
  }
 ],
 "metadata": {
  "kernelspec": {
   "display_name": "Python 3 (ipykernel)",
   "language": "python",
   "name": "python3"
  },
  "language_info": {
   "codemirror_mode": {
    "name": "ipython",
    "version": 3
   },
   "file_extension": ".py",
   "mimetype": "text/x-python",
   "name": "python",
   "nbconvert_exporter": "python",
   "pygments_lexer": "ipython3",
   "version": "3.11.5"
  }
 },
 "nbformat": 4,
 "nbformat_minor": 5
}
