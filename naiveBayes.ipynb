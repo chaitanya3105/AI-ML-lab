{
 "cells": [
  {
   "cell_type": "code",
   "execution_count": 4,
   "id": "cae55673",
   "metadata": {},
   "outputs": [
    {
     "name": "stdout",
     "output_type": "stream",
     "text": [
      "Predictions: [0, 1]\n",
      "Probabilities: [{0: 0.031746031746031744, 1: 0.004223227752639518}, {0: 0.004232804232804232, 1: 0.012669683257918552}]\n"
     ]
    }
   ],
   "source": [
    "import csv\n",
    "import numpy as np\n",
    "\n",
    "def load_data(filename):\n",
    "    X = []\n",
    "    y = []\n",
    "    with open(filename, 'r') as file:\n",
    "        reader = csv.reader(file)\n",
    "        next(reader)  # Skip the header row\n",
    "        for row in reader:\n",
    "            X.append(row[:-1])  # Instance attributes\n",
    "            y.append(int(row[-1]))   # Instance label\n",
    "    return np.array(X, dtype=np.float64), np.array(y)\n",
    "\n",
    "def fit_and_predict_naive_bayes(X_train, y_train, X_test):\n",
    "    class_probs = {}  # Prior probabilities of classes\n",
    "    feature_probs = {}  # Conditional probabilities of features given class\n",
    "\n",
    "    num_samples, num_features = X_train.shape\n",
    "    classes = np.unique(y_train)\n",
    "\n",
    "    for c in classes:\n",
    "        # Calculate prior probability of class\n",
    "        class_probs[c] = np.sum(y_train == c) / num_samples\n",
    "\n",
    "        # Calculate conditional probability of each feature given class\n",
    "        feature_probs[c] = []\n",
    "        for feature_idx in range(num_features):\n",
    "            feature_values = np.unique(X_train[:, feature_idx])\n",
    "            feature_prob = {}\n",
    "            for val in feature_values:\n",
    "                # Laplace smoothing for stability\n",
    "                count = np.sum((X_train[:, feature_idx] == val) & (y_train == c)) + 1\n",
    "                total_count = np.sum(y_train == c) + len(feature_values)\n",
    "                feature_prob[val] = count / total_count\n",
    "            feature_probs[c].append(feature_prob)\n",
    "\n",
    "    # Predict for test data\n",
    "    predictions = []\n",
    "    probabilities = []\n",
    "    for sample in X_test:\n",
    "        probs = {}\n",
    "        for c, class_prob in class_probs.items():\n",
    "            # Calculate posterior probability for each class\n",
    "            prob_c_given_x = class_prob\n",
    "            for feature_idx, feature_val in enumerate(sample):\n",
    "                if feature_val in feature_probs[c][feature_idx]:\n",
    "                    prob_c_given_x *= feature_probs[c][feature_idx][feature_val]\n",
    "                else:\n",
    "                    # Apply Laplace smoothing for unknown feature values\n",
    "                    prob_c_given_x *= 1 / (np.sum(y_train == c) + len(np.unique(X_train[:, feature_idx])))\n",
    "            probs[c] = prob_c_given_x\n",
    "        pred_class = max(probs, key=probs.get)\n",
    "        predictions.append(pred_class)\n",
    "        probabilities.append(probs)\n",
    "    \n",
    "    return predictions, probabilities\n",
    "\n",
    "# Example usage:\n",
    "if __name__ == \"__main__\":\n",
    "    filename = 'naive.csv'\n",
    "    X, y = load_data(filename)\n",
    "    test_data = np.array([[40, 85], [35, 80]])\n",
    "    predictions, probabilities = fit_and_predict_naive_bayes(X, y, test_data)\n",
    "    print(\"Predictions:\", predictions)\n",
    "    print(\"Probabilities:\", probabilities)\n",
    "\n",
    "  \n"
   ]
  },
  {
   "cell_type": "code",
   "execution_count": null,
   "id": "7f1961e7",
   "metadata": {},
   "outputs": [],
   "source": []
  },
  {
   "cell_type": "code",
   "execution_count": null,
   "id": "e6e352b9",
   "metadata": {},
   "outputs": [],
   "source": []
  }
 ],
 "metadata": {
  "kernelspec": {
   "display_name": "Python 3 (ipykernel)",
   "language": "python",
   "name": "python3"
  },
  "language_info": {
   "codemirror_mode": {
    "name": "ipython",
    "version": 3
   },
   "file_extension": ".py",
   "mimetype": "text/x-python",
   "name": "python",
   "nbconvert_exporter": "python",
   "pygments_lexer": "ipython3",
   "version": "3.11.5"
  }
 },
 "nbformat": 4,
 "nbformat_minor": 5
}
