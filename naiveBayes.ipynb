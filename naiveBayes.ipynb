{
 "cells": [
  {
   "cell_type": "code",
   "execution_count": 15,
   "id": "cae55673",
   "metadata": {},
   "outputs": [
    {
     "name": "stdout",
     "output_type": "stream",
     "text": [
      "Confusion matrix for Random Forest\n",
      " [[45  0  0  0  0  0  0  0  0  0]\n",
      " [ 0 52  0  0  0  0  0  0  0  0]\n",
      " [ 1  1 51  0  0  0  0  0  0  0]\n",
      " [ 0  0  0 51  0  0  0  0  1  2]\n",
      " [ 0  0  0  0 47  0  0  1  0  0]\n",
      " [ 0  0  0  0  0 55  1  0  0  1]\n",
      " [ 0  1  0  0  0  0 59  0  0  0]\n",
      " [ 0  0  0  0  0  0  0 53  0  0]\n",
      " [ 0  1  0  2  0  0  0  0 58  0]\n",
      " [ 0  0  0  1  0  0  0  0  0 56]]\n",
      "accuracy_random_Forest : 0.976\n",
      "precision_random_Forest : 0.976\n"
     ]
    }
   ],
   "source": [
    "import pandas as pd  # data processing, CSV file I/O (e.g. pd.read_csv)\n",
    "from sklearn.metrics import accuracy_score, precision_score, confusion_matrix\n",
    "from sklearn.model_selection import train_test_split\n",
    "from sklearn.ensemble import RandomForestClassifier\n",
    "\n",
    "# Load the dataset\n",
    "iris = pd.read_csv('Iris.csv')\n",
    "iris.head()\n",
    "\n",
    "# Split the dataset into training and testing sets\n",
    "X_train, X_test, y_train, y_test = train_test_split(X, y, test_size=0.3, random_state=0)\n",
    "\n",
    "# Train a Random Forest classifier\n",
    "random_forest = RandomForestClassifier(n_estimators=100)\n",
    "random_forest.fit(X_train, y_train)\n",
    "\n",
    "# Predict on the test set\n",
    "Y_prediction = random_forest.predict(X_test)\n",
    "\n",
    "# Calculate evaluation metrics\n",
    "cm = confusion_matrix(y_test, Y_prediction)\n",
    "accuracy = accuracy_score(y_test, Y_prediction)\n",
    "precision = precision_score(y_test, Y_prediction, average='micro')\n",
    "\n",
    "# Print the evaluation results\n",
    "print('Confusion matrix for Random Forest\\n', cm)\n",
    "print('accuracy_random_Forest : %.3f' % accuracy)\n",
    "print('precision_random_Forest : %.3f' % precision)\n"
   ]
  },
  {
   "cell_type": "code",
   "execution_count": null,
   "id": "7f1961e7",
   "metadata": {},
   "outputs": [],
   "source": []
  },
  {
   "cell_type": "code",
   "execution_count": null,
   "id": "e6e352b9",
   "metadata": {},
   "outputs": [],
   "source": []
  }
 ],
 "metadata": {
  "kernelspec": {
   "display_name": "Python 3 (ipykernel)",
   "language": "python",
   "name": "python3"
  },
  "language_info": {
   "codemirror_mode": {
    "name": "ipython",
    "version": 3
   },
   "file_extension": ".py",
   "mimetype": "text/x-python",
   "name": "python",
   "nbconvert_exporter": "python",
   "pygments_lexer": "ipython3",
   "version": "3.11.5"
  }
 },
 "nbformat": 4,
 "nbformat_minor": 5
}
